{
 "cells": [
  {
   "cell_type": "markdown",
   "id": "05ff75a7",
   "metadata": {},
   "source": [
    "Typecasting\n",
    "-------------------"
   ]
  },
  {
   "cell_type": "code",
   "execution_count": 1,
   "id": "acbaf4aa",
   "metadata": {},
   "outputs": [],
   "source": [
    "\n",
    "#First understand python only take str data type as input by default from user\n",
    "#Until and unless you will not define the type in which you want interpretor to read"
   ]
  },
  {
   "cell_type": "code",
   "execution_count": 1,
   "id": "fccfbd26",
   "metadata": {},
   "outputs": [
    {
     "name": "stdout",
     "output_type": "stream",
     "text": [
      "1234\n",
      "1234\n",
      "<class 'str'>\n"
     ]
    }
   ],
   "source": [
    "Typesomething = input()\n",
    "print(Typesomething)\n",
    "print(type(Typesomething))"
   ]
  },
  {
   "cell_type": "code",
   "execution_count": 3,
   "id": "792a1968",
   "metadata": {},
   "outputs": [
    {
     "name": "stdout",
     "output_type": "stream",
     "text": [
      "[1,2,3]\n",
      "[1,2,3]\n",
      "<class 'str'>\n"
     ]
    }
   ],
   "source": [
    "#Let's understand by one more example\n",
    "Typesomething = input()\n",
    "print(Typesomething)\n",
    "print(type(Typesomething))"
   ]
  },
  {
   "cell_type": "code",
   "execution_count": 4,
   "id": "876978e4",
   "metadata": {},
   "outputs": [
    {
     "name": "stdout",
     "output_type": "stream",
     "text": [
      "1,2,3\n",
      "1,2,3\n",
      "<class 'str'>\n"
     ]
    }
   ],
   "source": [
    "#Try onemore\n",
    "Typesomething = input()\n",
    "print(Typesomething)\n",
    "print(type(Typesomething))"
   ]
  },
  {
   "cell_type": "raw",
   "id": "4733176e",
   "metadata": {},
   "source": [
    "So let's say you have defined user to give data in any specific type, You are getting some patterns in this data that you can achieve with some operations that you can't perform on this data type but you would have achieved it if it was of that data type which accept those operation. Then type casting is very useful. Let's understand by example:-\n",
    "1) You have strings of number and you are noticing a pattern that every other string of number is increasing by 5 and on basis of that you want to meet some condition and print it then you can convert it into integer type to perform count += 5 airthmetic operation.\n",
    "2) You have Lists from two member of house to by grocerry for them and you want to get out common items from these two lists which means you can perform intersection here if it is set because intersection is a operation of sets. You can change your list to set perform this intersection option and then you can change the resultant set back to list. "
   ]
  },
  {
   "cell_type": "code",
   "execution_count": 23,
   "id": "d116fba8",
   "metadata": {},
   "outputs": [
    {
     "name": "stdout",
     "output_type": "stream",
     "text": [
      "give your numbers 12,23,4,56,7\n",
      "12,23,4,56,7\n",
      "<class 'str'>\n"
     ]
    }
   ],
   "source": [
    "a=(input(\"give your numbers \"))\n",
    "print(a)\n",
    "print(type(a))"
   ]
  },
  {
   "cell_type": "code",
   "execution_count": 6,
   "id": "7f78d948",
   "metadata": {},
   "outputs": [],
   "source": [
    "#I have taken the very small numbers in multiple of 5 but they should have any big numbers\n",
    "#Lets verify if they are increasing by 5 and if they are then I want each of them to get multiply by 2"
   ]
  },
  {
   "cell_type": "code",
   "execution_count": 22,
   "id": "4bc36f10",
   "metadata": {},
   "outputs": [
    {
     "name": "stdout",
     "output_type": "stream",
     "text": [
      "15\n",
      "30\n",
      "45\n",
      "60\n",
      "75\n"
     ]
    }
   ],
   "source": [
    "string = \"5,10,15,20,25\" #We know this is string we can't multiply here directly or it will just repeat it\n",
    "#see false attempts below if you want \n",
    "Listx = string.split(\",\") #It will split the string into Listx\n",
    "Listz = [int(Itemx) for Itemx in Listx] #It will convert all element of Listx to integer with list comprehension method\n",
    "#print(z) Print once here just to verify Listz is getting the desired output\n",
    "for ITEMZ in Listz:\n",
    "    print(ITEMZ*2) \n",
    "\n",
    "    \n",
    "   \n",
    "        "
   ]
  },
  {
   "cell_type": "code",
   "execution_count": 18,
   "id": "d9a03809",
   "metadata": {},
   "outputs": [
    {
     "name": "stdout",
     "output_type": "stream",
     "text": [
      "2\n",
      "0\n",
      "4\n",
      "0\n",
      "6\n",
      "0\n",
      "8\n",
      "0\n",
      "10\n",
      "0\n"
     ]
    }
   ],
   "source": [
    "#FALSE ATTEMPT1\n",
    "#See here its multiplying every digit by 2 not considering any two numbers operating on individual numbers\n",
    "string = \"10,20,30,40,50\"\n",
    "list(map(int,string.split(\",\"))) #ALthough we have tried to convert it to list and then to integer\n",
    "for n in string:\n",
    "    if n.isdigit(): #But here we are not telling that this is two digit number before comma and its performing\n",
    "        #operation on single digit\n",
    "        y = int(n)\n",
    "        y *= 2\n",
    "        print(y)\n",
    "        \n",
    "        "
   ]
  },
  {
   "cell_type": "code",
   "execution_count": 21,
   "id": "9e8f5fc6",
   "metadata": {},
   "outputs": [
    {
     "data": {
      "text/plain": [
       "['11',\n",
       " '00',\n",
       " ',,',\n",
       " '22',\n",
       " '00',\n",
       " ',,',\n",
       " '33',\n",
       " '00',\n",
       " ',,',\n",
       " '44',\n",
       " '00',\n",
       " ',,',\n",
       " '55',\n",
       " '00']"
      ]
     },
     "execution_count": 21,
     "metadata": {},
     "output_type": "execute_result"
    }
   ],
   "source": [
    "[x*2 for x in string] #Here its doing multiplication in string concatenation way and repearing each element\n",
    "#even comma by 2 "
   ]
  },
  {
   "cell_type": "raw",
   "id": "d460951d",
   "metadata": {},
   "source": [
    "Now each value got seperted in array which will be accessible by giving array index\n",
    "In this example:-\n",
    "y = ['5', '10', '15', '20', '25']\n",
    "It is not a list it is array because it is a collection of same data type. All elements at each index value are of same data type.\n",
    "y[0],y[1],y[2],y[3],y[4] all are strings that's why it is an array \n",
    "Understand it by few more example :-\n",
    "a = [1,\"1\",2,3,4] - It is a list because a[1] is str and all others are int\n",
    "a = [\"brown\",\"23\",\"123@wxy\"] - It is array because elements at all index value are string\n",
    "\n",
    "*Now lets jump back to our problem \n"
   ]
  },
  {
   "cell_type": "code",
   "execution_count": 7,
   "id": "da796326",
   "metadata": {},
   "outputs": [
    {
     "name": "stdout",
     "output_type": "stream",
     "text": [
      "['5', '10', '15', '20', '25']\n"
     ]
    }
   ],
   "source": [
    "#Now lets say I have a array pf string numbers\n",
    "# And lets try doing in this example a manual way \n",
    "y = ['5', '10', '15', '20', '25']\n",
    "print(y)"
   ]
  },
  {
   "cell_type": "code",
   "execution_count": 8,
   "id": "a2673194",
   "metadata": {},
   "outputs": [
    {
     "name": "stdout",
     "output_type": "stream",
     "text": [
      "5\n",
      "10\n",
      "15\n",
      "20\n",
      "25\n"
     ]
    }
   ],
   "source": [
    "Outputlist = []\n",
    "for items in y:\n",
    "    if items[0].isdigit:\n",
    "        y = int(items)\n",
    "        print(y)\n"
   ]
  },
  {
   "cell_type": "code",
   "execution_count": null,
   "id": "1b672a3e",
   "metadata": {},
   "outputs": [],
   "source": [
    "# These two example explain well different methods how typecasting makes data scientists job easier to\n",
    "# to work on several operations \n",
    "# We took two small examples for visualization but for very large amount of data we work with several other\n",
    "# methods available in python like lambda function, list comprehension method, user defined functions to use \n",
    "# along woth typecasting for being more specific \n"
   ]
  },
  {
   "cell_type": "code",
   "execution_count": null,
   "id": "80576565",
   "metadata": {},
   "outputs": [],
   "source": []
  }
 ],
 "metadata": {
  "kernelspec": {
   "display_name": "Python 3 (ipykernel)",
   "language": "python",
   "name": "python3"
  },
  "language_info": {
   "codemirror_mode": {
    "name": "ipython",
    "version": 3
   },
   "file_extension": ".py",
   "mimetype": "text/x-python",
   "name": "python",
   "nbconvert_exporter": "python",
   "pygments_lexer": "ipython3",
   "version": "3.9.7"
  }
 },
 "nbformat": 4,
 "nbformat_minor": 5
}
