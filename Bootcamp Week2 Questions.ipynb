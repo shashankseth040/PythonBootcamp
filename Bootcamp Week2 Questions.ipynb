{
 "cells": [
  {
   "cell_type": "raw",
   "id": "548a279c",
   "metadata": {},
   "source": [
    "Question 1\n",
    "---------------\n",
    "Description\n",
    "Remove SPSS from input_list=['SAS', 'R', 'PYTHON', 'SPSS'] and add 'SPARK' in its place.\n",
    "Sample Input:\n",
    "['SAS', 'R', 'PYTHON', 'SPSS']\n",
    "Sample Output:\n",
    "['SAS', 'R', 'PYTHON', 'SPARK']"
   ]
  },
  {
   "cell_type": "code",
   "execution_count": 4,
   "id": "646da898",
   "metadata": {},
   "outputs": [
    {
     "name": "stdout",
     "output_type": "stream",
     "text": [
      "['SAS', 'R', 'PYTHON', 'SPARK']\n"
     ]
    }
   ],
   "source": [
    "input_list=['SAS', 'R', 'PYTHON', 'SPSS']\n",
    "input_list[3] = 'SPARK'\n",
    "print(input_list)"
   ]
  },
  {
   "cell_type": "code",
   "execution_count": null,
   "id": "6071e127",
   "metadata": {},
   "outputs": [],
   "source": [
    "# or what else you can do is use .remove() abd .append() method\n",
    "input_list=['SAS', 'R', 'PYTHON', 'SPSS']\n",
    "input_list.remove(\"SPSS\")\n",
    "input_list.append(\"SPARK\")\n",
    "print(input_list)"
   ]
  },
  {
   "cell_type": "code",
   "execution_count": null,
   "id": "e323e91e",
   "metadata": {},
   "outputs": [],
   "source": [
    "#or what else you can do is extend your list\n",
    "input_list=['SAS', 'R', 'PYTHON', 'SPSS']\n",
    "input_list.remove(\"SPSS\")\n",
    "input_list.extend([\"SPARK\"])\n",
    "print(input_list)"
   ]
  },
  {
   "cell_type": "raw",
   "id": "2d7750bf",
   "metadata": {},
   "source": [
    "Question 2\n",
    "-----------\n",
    "Convert a list ['Pythons syntax is easy to learn', 'Pythons syntax is very clear'] to a string using ‘&’. The sample output of this string will be:\n",
    "Pythons syntax is easy to learn & Pythons syntax is very clear"
   ]
  },
  {
   "cell_type": "code",
   "execution_count": 5,
   "id": "14e4c9fd",
   "metadata": {},
   "outputs": [
    {
     "name": "stdout",
     "output_type": "stream",
     "text": [
      "'Pythons syntax is easy to learn', 'Pythons syntax is very clear'\n",
      "[\"'Pythons syntax is easy to learn'\", \" 'Pythons syntax is very clear'\"]\n",
      "'Pythons syntax is easy to learn' &  'Pythons syntax is very clear'\n"
     ]
    }
   ],
   "source": [
    "List = input().split(\",\")\n",
    "print(List)\n",
    "string_1 = List[0] +\" & \"+ List[1]\n",
    "print(string_1)\n"
   ]
  },
  {
   "cell_type": "code",
   "execution_count": 6,
   "id": "da29177d",
   "metadata": {},
   "outputs": [
    {
     "name": "stdout",
     "output_type": "stream",
     "text": [
      "'Pythons syntax is easy to learn', 'Pythons syntax is very clear'\n",
      "[\"'Pythons syntax is easy to learn'\", \" 'Pythons syntax is very clear'\"]\n",
      "'Pythons syntax is easy to learn'& 'Pythons syntax is very clear'\n"
     ]
    }
   ],
   "source": [
    "# By using join() function \n",
    "List = input().split(\",\")\n",
    "print(List)\n",
    "string_1 = \"&\".join(List) #It will replace all comma, and will join elements with &\n",
    "print(string_1)\n"
   ]
  },
  {
   "cell_type": "code",
   "execution_count": 7,
   "id": "4bb2bae9",
   "metadata": {},
   "outputs": [
    {
     "name": "stdout",
     "output_type": "stream",
     "text": [
      "'Pythons syntax is easy to learn', 'Pythons syntax is very clear'\n",
      "[\"'Pythons syntax is easy to learn'\", \" 'Pythons syntax is very clear'\"]\n",
      "'Pythons syntax is easy to learn' and also 'Pythons syntax is very clear'\n"
     ]
    }
   ],
   "source": [
    "# By using join() function \n",
    "List = input().split(\",\")\n",
    "print(List)\n",
    "string_1 = \" and also\".join(List) #It will replace all comma, and will join elements with \" and also\"\n",
    "print(string_1)\n"
   ]
  },
  {
   "cell_type": "raw",
   "id": "69b91f0a",
   "metadata": {},
   "source": [
    "Question 3\n",
    "-----------\n",
    "Description\n",
    "Split the string input_str = 'Kumar_Ravi_003' to the person's second name, first name and unique customer code. In this example, second_name= 'Kumar', first_name= 'Ravi', customer_code = '003'.\n",
    "A sample output of the input 'Kumar_Ravi_003' is:\n",
    "Ravi\n",
    "Kumar\n",
    "003"
   ]
  },
  {
   "cell_type": "code",
   "execution_count": 1,
   "id": "62ce9be2",
   "metadata": {},
   "outputs": [
    {
     "name": "stdout",
     "output_type": "stream",
     "text": [
      "Kumar_Ravi_003\n",
      "['Kumar', 'Ravi', '003']\n"
     ]
    }
   ],
   "source": [
    "input_str = input() #User will input Kumar_Ravi_003 \n",
    "List = input_str.split(\"_\") #It will split input string from _ and convert into List\n",
    "print(List) #Let's verify print to see if we are getting the desired output\n"
   ]
  },
  {
   "cell_type": "code",
   "execution_count": 2,
   "id": "830f7c8a",
   "metadata": {},
   "outputs": [
    {
     "name": "stdout",
     "output_type": "stream",
     "text": [
      "Ravi\n",
      "Kumar\n",
      "003\n"
     ]
    }
   ],
   "source": [
    "First_Name = List[1] #This is at index value 1 of the List\n",
    "Second_Name = List[0] #This is at index value 0 of the List\n",
    "ID = List[2] #This is at index value 2 of the List\n",
    "print(First_Name)\n",
    "print(Second_Name)\n",
    "print(ID)"
   ]
  },
  {
   "cell_type": "raw",
   "id": "7f81c356",
   "metadata": {},
   "source": [
    "Question 4\n",
    "-----------\n",
    "Description\n",
    "Add the element ‘Python’ to a tuple input_tuple = ('Monty Python', 'British', 1969). \n",
    "Sample Input:('Monty Python', 'British', 1969)\n",
    "Sample Output:('Monty Python', 'British', 1969, 'Python')"
   ]
  },
  {
   "cell_type": "code",
   "execution_count": 8,
   "id": "69bcb0be",
   "metadata": {},
   "outputs": [
    {
     "name": "stdout",
     "output_type": "stream",
     "text": [
      "['Monty Python', 'British', 1969]\n",
      "['Monty Python', 'British', 1969, 'Python']\n",
      "('Monty Python', 'British', 1969, 'Python')\n"
     ]
    }
   ],
   "source": [
    "input_tuple = ('Monty Python', 'British', 1969)\n",
    "#As we can't change elements directly in tuple so we will change it to List first \n",
    "#Then we will add Python and will again convert it to tuple\n",
    "A,B,C = input_tuple\n",
    "List = [A,B,C]\n",
    "print(List)\n",
    "List.extend([\"Python\"])\n",
    "print(List)\n",
    "tuple_2 = tuple(List) #used tuple method to convert list into tuple\n",
    "print(tuple_2)\n",
    "\n"
   ]
  },
  {
   "cell_type": "code",
   "execution_count": 9,
   "id": "f425365f",
   "metadata": {},
   "outputs": [
    {
     "name": "stdout",
     "output_type": "stream",
     "text": [
      "['Monty Python', 'British', 1969]\n",
      "['Monty Python', 'British', 1969, 'Python']\n",
      "('Monty Python', 'British', 1969, 'Python')\n"
     ]
    }
   ],
   "source": [
    "input_tuple = ('Monty Python', 'British', 1969)\n",
    "List = list(input_tuple) #used list method to convert tuple into list \n",
    "print(List)\n",
    "List.extend([\"Python\"])\n",
    "print(List)\n",
    "tuple_2 = tuple(List)#used tuple method to convert list into tuple\n",
    "print(tuple_2)"
   ]
  },
  {
   "cell_type": "code",
   "execution_count": null,
   "id": "8a043fb5",
   "metadata": {},
   "outputs": [],
   "source": []
  }
 ],
 "metadata": {
  "kernelspec": {
   "display_name": "Python 3 (ipykernel)",
   "language": "python",
   "name": "python3"
  },
  "language_info": {
   "codemirror_mode": {
    "name": "ipython",
    "version": 3
   },
   "file_extension": ".py",
   "mimetype": "text/x-python",
   "name": "python",
   "nbconvert_exporter": "python",
   "pygments_lexer": "ipython3",
   "version": "3.9.7"
  }
 },
 "nbformat": 4,
 "nbformat_minor": 5
}
